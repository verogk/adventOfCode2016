{
 "cells": [
  {
   "cell_type": "markdown",
   "metadata": {
    "collapsed": true
   },
   "source": [
    "http://adventofcode.com/2016/day/1"
   ]
  },
  {
   "cell_type": "markdown",
   "metadata": {},
   "source": [
    "#### Day 1: No Time for a Taxicab\n",
    "\n",
    "Santa's sleigh uses a very high-precision clock to guide its movements, and the clock's oscillator is regulated by stars. Unfortunately, the stars have been stolen... by the Easter Bunny. To save Christmas, Santa needs you to retrieve all fifty stars by December 25th.\n",
    "\n",
    "Collect stars by solving puzzles. Two puzzles will be made available on each day in the advent calendar; the second puzzle is unlocked when you complete the first. Each puzzle grants one star. Good luck!\n",
    "\n",
    "You're airdropped near Easter Bunny Headquarters in a city somewhere. \"Near\", unfortunately, is as close as you can get - the instructions on the Easter Bunny Recruiting Document the Elves intercepted start here, and nobody had time to work them out further.\n",
    "\n",
    "The Document indicates that you should start at the given coordinates (where you just landed) and face North. Then, follow the provided sequence: either turn left (L) or right (R) 90 degrees, then walk forward the given number of blocks, ending at a new intersection.\n",
    "\n",
    "There's no time to follow such ridiculous instructions on foot, though, so you take a moment and work out the destination. Given that you can only walk on the street grid of the city, how far is the shortest path to the destination?"
   ]
  },
  {
   "cell_type": "code",
   "execution_count": null,
   "metadata": {
    "collapsed": false
   },
   "outputs": [],
   "source": [
    "coords = [\"L3\",\"R2\",\"L5\",\"R1\",\"L1\",\"L2\",\"L2\",\"R1\",\"R5\",\"R1\",\"L1\",\"L2\",\"R2\",\"R4\",\"L4\",\"L3\",\"L3\",\"R5\",\"L1\",\"R3\",\"L5\",\"L2\",\"R4\",\"L5\",\"R4\",\"R2\",\"L2\",\"L1\",\"R1\",\"L3\",\"L3\",\"R2\",\"R1\",\"L4\",\"L1\",\"L1\",\"R4\",\"R5\",\"R1\",\"L2\",\"L1\",\"R188\",\"R4\",\"L3\",\"R54\",\"L4\",\"R4\",\"R74\",\"R2\",\"L4\",\"R185\",\"R1\",\"R3\",\"R5\",\"L2\",\"L3\",\"R1\",\"L1\",\"L3\",\"R3\",\"R2\",\"L3\",\"L4\",\"R1\",\"L3\",\"L5\",\"L2\",\"R2\",\"L1\",\"R2\",\"R1\",\"L4\",\"R5\",\"R4\",\"L5\",\"L5\",\"L4\",\"R5\",\"R4\",\"L5\",\"L3\",\"R4\",\"R1\",\"L5\",\"L4\",\"L3\",\"R5\",\"L5\",\"L2\",\"L4\",\"R4\",\"R4\",\"R2\",\"L1\",\"L3\",\"L2\",\"R5\",\"R4\",\"L5\",\"R1\",\"R2\",\"R5\",\"L2\",\"R4\",\"R5\",\"L2\",\"L3\",\"R3\",\"L4\",\"R3\",\"L2\",\"R1\",\"R4\",\"L5\",\"R1\",\"L5\",\"L3\",\"R4\",\"L2\",\"L2\",\"L5\",\"L5\",\"R5\",\"R2\",\"L5\",\"R1\",\"L3\",\"L2\",\"L2\",\"R3\",\"L3\",\"L4\",\"R2\",\"R3\",\"L1\",\"R2\",\"L5\",\"L3\",\"R4\",\"L4\",\"R4\",\"R3\",\"L3\",\"R1\",\"L3\",\"R5\",\"L5\",\"R1\",\"R5\",\"R3\",\"L1\"]"
   ]
  },
  {
   "cell_type": "code",
   "execution_count": null,
   "metadata": {
    "collapsed": true
   },
   "outputs": [],
   "source": [
    "# how you move (l or R) depends on the direction that you are headed: East (E), West (W), North (N), South (U):"
   ]
  },
  {
   "cell_type": "code",
   "execution_count": null,
   "metadata": {
    "collapsed": false
   },
   "outputs": [],
   "source": [
    "# initial current direction is North\n",
    "cur_dir=\"N\"\n",
    "x_axis=0\n",
    "y_axis=0\n",
    "\n",
    "x_axis_move=0\n",
    "y_axis_move=0\n",
    "\n",
    "all_locations = [(0,0)] # 0 is the initial position\n",
    "all_x_coords = [0]\n",
    "all_y_coords = [0]\n",
    "\n",
    "for i in coords:\n",
    "    \n",
    "    if cur_dir==\"N\":\n",
    "        if i[0]==\"L\":\n",
    "            new_dir=\"W\"\n",
    "            y_axis_move=0\n",
    "            x_axis_move= -int(i[1:])\n",
    "        else: #i[0]==\"R\"\n",
    "            new_dir=\"E\"\n",
    "            y_axis_move=0\n",
    "            x_axis_move= +int(i[1:])\n",
    "    elif cur_dir==\"W\":\n",
    "        if i[0]==\"L\":\n",
    "            new_dir=\"S\"\n",
    "            x_axis_move=0\n",
    "            y_axis_move= -int(i[1:])\n",
    "        else: #i[0]==\"R\"\n",
    "            new_dir=\"N\"\n",
    "            x_axis_move=0\n",
    "            y_axis_move= +int(i[1:])\n",
    "    elif cur_dir==\"S\":\n",
    "        if i[0]==\"L\":\n",
    "            new_dir=\"E\"\n",
    "            y_axis_move=0\n",
    "            x_axis_move= +int(i[1:])\n",
    "        else: #i[0]==\"R\"\n",
    "            new_dir=\"W\"\n",
    "            y_axis_move=0\n",
    "            x_axis_move= -int(i[1:])          \n",
    "    elif cur_dir==\"E\":\n",
    "        if i[0]==\"L\":\n",
    "            new_dir=\"N\"\n",
    "            x_axis_move=0\n",
    "            y_axis_move= +int(i[1:])\n",
    "        else: #i[0]==\"R\"\n",
    "            new_dir=\"S\"\n",
    "            x_axis_move=0\n",
    "            y_axis_move= -int(i[1:])             \n",
    "    \n",
    "    cur_dir=new_dir #updates the current direction\n",
    "    x_axis += x_axis_move\n",
    "    y_axis += y_axis_move\n",
    "    \n",
    "    all_locations.append((x_axis, y_axis))\n",
    "    all_x_coords.append(x_axis)\n",
    "    all_y_coords.append(y_axis)\n",
    "    \n",
    "    print x_axis_move, y_axis_move, new_dir, x_axis, y_axis\n",
    "    "
   ]
  },
  {
   "cell_type": "code",
   "execution_count": null,
   "metadata": {
    "collapsed": false
   },
   "outputs": [],
   "source": [
    "print {\"final x axis\": x_axis, \"final y axis\": y_axis}"
   ]
  },
  {
   "cell_type": "code",
   "execution_count": null,
   "metadata": {
    "collapsed": false
   },
   "outputs": [],
   "source": [
    "#How many blocks away is Easter Bunny HQ?\n",
    "abs(x_axis)+abs(y_axis)"
   ]
  },
  {
   "cell_type": "markdown",
   "metadata": {
    "collapsed": true
   },
   "source": [
    "#### Part Two \n",
    "\n",
    "Then, you notice the instructions continue on the back of the Recruiting Document. Easter Bunny HQ is actually at the first location you visit twice.\n",
    "\n",
    "For example, if your instructions are R8, R4, R4, R8, the first location you visit twice is 4 blocks away, due East.\n",
    "\n",
    "How many blocks away is the first location you visit twice?\n",
    "\n",
    "Although it hasn't changed, you can still get your puzzle input."
   ]
  },
  {
   "cell_type": "code",
   "execution_count": null,
   "metadata": {
    "collapsed": false
   },
   "outputs": [],
   "source": [
    "import matplotlib.pyplot as plt"
   ]
  },
  {
   "cell_type": "code",
   "execution_count": null,
   "metadata": {
    "collapsed": false,
    "scrolled": false
   },
   "outputs": [],
   "source": [
    "plt.plot(all_x_coords, all_y_coords)\n",
    "plt.axis([-20,5,-15,250])\n",
    "\n",
    "plt.show()"
   ]
  },
  {
   "cell_type": "code",
   "execution_count": null,
   "metadata": {
    "collapsed": true
   },
   "outputs": [],
   "source": [
    "# create all intermediate points in coordinates of places visited"
   ]
  },
  {
   "cell_type": "code",
   "execution_count": null,
   "metadata": {
    "collapsed": false
   },
   "outputs": [],
   "source": [
    "# generate the pairs of coords start-end\n",
    "paired_places = []\n",
    "\n",
    "for i in range(0, len(all_locations)):\n",
    "    p2_n = i+1\n",
    "    p1 = all_locations[i]\n",
    "    p2 = all_locations[p2_n]\n",
    "    \n",
    "    paired_places.append((p1, p2)) # += works like append"
   ]
  },
  {
   "cell_type": "code",
   "execution_count": null,
   "metadata": {
    "collapsed": false
   },
   "outputs": [],
   "source": [
    "def points_between(p1, p2):\n",
    "    \n",
    "    if p1[0] <= p2[0] and p1[1] <= p2[1]:\n",
    "        xs = range(p1[0], p2[0]) or [p1[0]]\n",
    "        ys = range(p1[1], p2[1]) or [p1[1]]\n",
    "        \n",
    "    elif p1[0] > p2[0] and p1[1] > p2[1]:\n",
    "        xs = range(p1[0] -1, p2[0], -1) or [p1[0]]\n",
    "        ys = range(p1[1] -1, p2[1], -1) or [p1[1]] \n",
    "\n",
    "    elif p1[0] <= p2[0] and p1[1] > p2[1]:\n",
    "        xs = range(p1[0], p2[0]) or [p1[0]]\n",
    "        ys = range(p1[1] -1, p2[1], -1) or [p1[1]] \n",
    "\n",
    "    elif p1[0] > p2[0] and p1[1] <= p2[1]:\n",
    "        xs = range(p1[0] -1, p2[0], -1) or [p1[0]]\n",
    "        ys = range(p1[1], p2[1]) or [p1[1]] \n",
    "        \n",
    "    return [(x,y) for x in xs for y in ys]"
   ]
  },
  {
   "cell_type": "code",
   "execution_count": null,
   "metadata": {
    "collapsed": true
   },
   "outputs": [],
   "source": [
    "all_points = [[(0,0)]]\n",
    "for i in range(0, len(paired_places)):\n",
    "    all_points.append(points_between(paired_places[i][0], paired_places[i][1]))\n",
    "    "
   ]
  },
  {
   "cell_type": "code",
   "execution_count": null,
   "metadata": {
    "collapsed": false
   },
   "outputs": [],
   "source": [
    "# flatten list\n",
    "all_points_flat = [item for sublist in all_points for item in sublist]"
   ]
  },
  {
   "cell_type": "code",
   "execution_count": null,
   "metadata": {
    "collapsed": false
   },
   "outputs": [],
   "source": [
    "duplicates = [x for x in all_points_flat if all_points_flat.count(x) > 1]"
   ]
  },
  {
   "cell_type": "code",
   "execution_count": null,
   "metadata": {
    "collapsed": false
   },
   "outputs": [],
   "source": [
    "duplicates"
   ]
  },
  {
   "cell_type": "code",
   "execution_count": null,
   "metadata": {
    "collapsed": false
   },
   "outputs": [],
   "source": [
    "abs(duplicates[0][0])+abs(duplicates[0][1])"
   ]
  }
 ],
 "metadata": {
  "kernelspec": {
   "display_name": "Python 2",
   "language": "python",
   "name": "python2"
  },
  "language_info": {
   "codemirror_mode": {
    "name": "ipython",
    "version": 2
   },
   "file_extension": ".py",
   "mimetype": "text/x-python",
   "name": "python",
   "nbconvert_exporter": "python",
   "pygments_lexer": "ipython2",
   "version": "2.7.12"
  }
 },
 "nbformat": 4,
 "nbformat_minor": 1
}
