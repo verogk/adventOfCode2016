{
 "cells": [
  {
   "cell_type": "markdown",
   "metadata": {
    "collapsed": true
   },
   "source": [
    "http://adventofcode.com/2016/day/1"
   ]
  },
  {
   "cell_type": "markdown",
   "metadata": {},
   "source": [
    "#### Day 1: No Time for a Taxicab\n",
    "\n",
    "Santa's sleigh uses a very high-precision clock to guide its movements, and the clock's oscillator is regulated by stars. Unfortunately, the stars have been stolen... by the Easter Bunny. To save Christmas, Santa needs you to retrieve all fifty stars by December 25th.\n",
    "\n",
    "Collect stars by solving puzzles. Two puzzles will be made available on each day in the advent calendar; the second puzzle is unlocked when you complete the first. Each puzzle grants one star. Good luck!\n",
    "\n",
    "You're airdropped near Easter Bunny Headquarters in a city somewhere. \"Near\", unfortunately, is as close as you can get - the instructions on the Easter Bunny Recruiting Document the Elves intercepted start here, and nobody had time to work them out further.\n",
    "\n",
    "The Document indicates that you should start at the given coordinates (where you just landed) and face North. Then, follow the provided sequence: either turn left (L) or right (R) 90 degrees, then walk forward the given number of blocks, ending at a new intersection.\n",
    "\n",
    "There's no time to follow such ridiculous instructions on foot, though, so you take a moment and work out the destination. Given that you can only walk on the street grid of the city, how far is the shortest path to the destination?"
   ]
  },
  {
   "cell_type": "code",
   "execution_count": 1,
   "metadata": {
    "collapsed": false
   },
   "outputs": [],
   "source": [
    "coords = [\"L3\",\"R2\",\"L5\",\"R1\",\"L1\",\"L2\",\"L2\",\"R1\",\"R5\",\"R1\",\"L1\",\"L2\",\"R2\",\"R4\",\"L4\",\"L3\",\"L3\",\"R5\",\"L1\",\"R3\",\"L5\",\"L2\",\"R4\",\"L5\",\"R4\",\"R2\",\"L2\",\"L1\",\"R1\",\"L3\",\"L3\",\"R2\",\"R1\",\"L4\",\"L1\",\"L1\",\"R4\",\"R5\",\"R1\",\"L2\",\"L1\",\"R188\",\"R4\",\"L3\",\"R54\",\"L4\",\"R4\",\"R74\",\"R2\",\"L4\",\"R185\",\"R1\",\"R3\",\"R5\",\"L2\",\"L3\",\"R1\",\"L1\",\"L3\",\"R3\",\"R2\",\"L3\",\"L4\",\"R1\",\"L3\",\"L5\",\"L2\",\"R2\",\"L1\",\"R2\",\"R1\",\"L4\",\"R5\",\"R4\",\"L5\",\"L5\",\"L4\",\"R5\",\"R4\",\"L5\",\"L3\",\"R4\",\"R1\",\"L5\",\"L4\",\"L3\",\"R5\",\"L5\",\"L2\",\"L4\",\"R4\",\"R4\",\"R2\",\"L1\",\"L3\",\"L2\",\"R5\",\"R4\",\"L5\",\"R1\",\"R2\",\"R5\",\"L2\",\"R4\",\"R5\",\"L2\",\"L3\",\"R3\",\"L4\",\"R3\",\"L2\",\"R1\",\"R4\",\"L5\",\"R1\",\"L5\",\"L3\",\"R4\",\"L2\",\"L2\",\"L5\",\"L5\",\"R5\",\"R2\",\"L5\",\"R1\",\"L3\",\"L2\",\"L2\",\"R3\",\"L3\",\"L4\",\"R2\",\"R3\",\"L1\",\"R2\",\"L5\",\"L3\",\"R4\",\"L4\",\"R4\",\"R3\",\"L3\",\"R1\",\"L3\",\"R5\",\"L5\",\"R1\",\"R5\",\"R3\",\"L1\"]"
   ]
  },
  {
   "cell_type": "code",
   "execution_count": 2,
   "metadata": {
    "collapsed": true
   },
   "outputs": [],
   "source": [
    "# how you move (l or R) depends on the direction that you are headed: East (E), West (W), North (N), South (U):"
   ]
  },
  {
   "cell_type": "code",
   "execution_count": 12,
   "metadata": {
    "collapsed": false
   },
   "outputs": [
    {
     "name": "stdout",
     "output_type": "stream",
     "text": [
      "-3 0 W -3 0\n",
      "0 2 N -3 2\n",
      "-5 0 W -8 2\n",
      "0 1 N -8 3\n",
      "-1 0 W -9 3\n",
      "0 -2 S -9 1\n",
      "2 0 E -7 1\n",
      "0 -1 S -7 0\n",
      "-5 0 W -12 0\n",
      "0 1 N -12 1\n",
      "-1 0 W -13 1\n",
      "0 -2 S -13 -1\n",
      "-2 0 W -15 -1\n",
      "0 4 N -15 3\n",
      "-4 0 W -19 3\n",
      "0 -3 S -19 0\n",
      "3 0 E -16 0\n",
      "0 -5 S -16 -5\n",
      "1 0 E -15 -5\n",
      "0 -3 S -15 -8\n",
      "5 0 E -10 -8\n",
      "0 2 N -10 -6\n",
      "4 0 E -6 -6\n",
      "0 5 N -6 -1\n",
      "4 0 E -2 -1\n",
      "0 -2 S -2 -3\n",
      "2 0 E 0 -3\n",
      "0 1 N 0 -2\n",
      "1 0 E 1 -2\n",
      "0 3 N 1 1\n",
      "-3 0 W -2 1\n",
      "0 2 N -2 3\n",
      "1 0 E -1 3\n",
      "0 4 N -1 7\n",
      "-1 0 W -2 7\n",
      "0 -1 S -2 6\n",
      "-4 0 W -6 6\n",
      "0 5 N -6 11\n",
      "1 0 E -5 11\n",
      "0 2 N -5 13\n",
      "-1 0 W -6 13\n",
      "0 188 N -6 201\n",
      "4 0 E -2 201\n",
      "0 3 N -2 204\n",
      "54 0 E 52 204\n",
      "0 4 N 52 208\n",
      "4 0 E 56 208\n",
      "0 -74 S 56 134\n",
      "-2 0 W 54 134\n",
      "0 -4 S 54 130\n",
      "-185 0 W -131 130\n",
      "0 1 N -131 131\n",
      "3 0 E -128 131\n",
      "0 -5 S -128 126\n",
      "2 0 E -126 126\n",
      "0 3 N -126 129\n",
      "1 0 E -125 129\n",
      "0 1 N -125 130\n",
      "-3 0 W -128 130\n",
      "0 3 N -128 133\n",
      "2 0 E -126 133\n",
      "0 3 N -126 136\n",
      "-4 0 W -130 136\n",
      "0 1 N -130 137\n",
      "-3 0 W -133 137\n",
      "0 -5 S -133 132\n",
      "2 0 E -131 132\n",
      "0 -2 S -131 130\n",
      "1 0 E -130 130\n",
      "0 -2 S -130 128\n",
      "-1 0 W -131 128\n",
      "0 -4 S -131 124\n",
      "-5 0 W -136 124\n",
      "0 4 N -136 128\n",
      "-5 0 W -141 128\n",
      "0 -5 S -141 123\n",
      "4 0 E -137 123\n",
      "0 -5 S -137 118\n",
      "-4 0 W -141 118\n",
      "0 -5 S -141 113\n",
      "3 0 E -138 113\n",
      "0 -4 S -138 109\n",
      "-1 0 W -139 109\n",
      "0 -5 S -139 104\n",
      "4 0 E -135 104\n",
      "0 3 N -135 107\n",
      "5 0 E -130 107\n",
      "0 5 N -130 112\n",
      "-2 0 W -132 112\n",
      "0 -4 S -132 108\n",
      "-4 0 W -136 108\n",
      "0 4 N -136 112\n",
      "2 0 E -134 112\n",
      "0 1 N -134 113\n",
      "-3 0 W -137 113\n",
      "0 -2 S -137 111\n",
      "-5 0 W -142 111\n",
      "0 4 N -142 115\n",
      "-5 0 W -147 115\n",
      "0 1 N -147 116\n",
      "2 0 E -145 116\n",
      "0 -5 S -145 111\n",
      "2 0 E -143 111\n",
      "0 -4 S -143 107\n",
      "-5 0 W -148 107\n",
      "0 -2 S -148 105\n",
      "3 0 E -145 105\n",
      "0 -3 S -145 102\n",
      "4 0 E -141 102\n",
      "0 -3 S -141 99\n",
      "2 0 E -139 99\n",
      "0 -1 S -139 98\n",
      "-4 0 W -143 98\n",
      "0 -5 S -143 93\n",
      "-1 0 W -144 93\n",
      "0 -5 S -144 88\n",
      "3 0 E -141 88\n",
      "0 -4 S -141 84\n",
      "2 0 E -139 84\n",
      "0 2 N -139 86\n",
      "-5 0 W -144 86\n",
      "0 -5 S -144 81\n",
      "-5 0 W -149 81\n",
      "0 2 N -149 83\n",
      "-5 0 W -154 83\n",
      "0 1 N -154 84\n",
      "-3 0 W -157 84\n",
      "0 -2 S -157 82\n",
      "2 0 E -155 82\n",
      "0 -3 S -155 79\n",
      "3 0 E -152 79\n",
      "0 4 N -152 83\n",
      "2 0 E -150 83\n",
      "0 -3 S -150 80\n",
      "1 0 E -149 80\n",
      "0 -2 S -149 78\n",
      "5 0 E -144 78\n",
      "0 3 N -144 81\n",
      "4 0 E -140 81\n",
      "0 4 N -140 85\n",
      "4 0 E -136 85\n",
      "0 -3 S -136 82\n",
      "3 0 E -133 82\n",
      "0 -1 S -133 81\n",
      "3 0 E -130 81\n",
      "0 -5 S -130 76\n",
      "5 0 E -125 76\n",
      "0 -1 S -125 75\n",
      "-5 0 W -130 75\n",
      "0 3 N -130 78\n",
      "-1 0 W -131 78\n"
     ]
    }
   ],
   "source": [
    "# initial current direction is North\n",
    "cur_dir=\"N\"\n",
    "x_axis=0\n",
    "y_axis=0\n",
    "\n",
    "x_axis_move=0\n",
    "y_axis_move=0\n",
    "\n",
    "all_locations = [(0,0)] # 0 is the initial position\n",
    "all_x_coords = [0]\n",
    "all_y_coords = [0]\n",
    "\n",
    "for i in coords:\n",
    "    \n",
    "    if cur_dir==\"N\":\n",
    "        if i[0]==\"L\":\n",
    "            new_dir=\"W\"\n",
    "            y_axis_move=0\n",
    "            x_axis_move= -int(i[1:])\n",
    "        else: #i[0]==\"R\"\n",
    "            new_dir=\"E\"\n",
    "            y_axis_move=0\n",
    "            x_axis_move= +int(i[1:])\n",
    "    elif cur_dir==\"W\":\n",
    "        if i[0]==\"L\":\n",
    "            new_dir=\"S\"\n",
    "            x_axis_move=0\n",
    "            y_axis_move= -int(i[1:])\n",
    "        else: #i[0]==\"R\"\n",
    "            new_dir=\"N\"\n",
    "            x_axis_move=0\n",
    "            y_axis_move= +int(i[1:])\n",
    "    elif cur_dir==\"S\":\n",
    "        if i[0]==\"L\":\n",
    "            new_dir=\"E\"\n",
    "            y_axis_move=0\n",
    "            x_axis_move= +int(i[1:])\n",
    "        else: #i[0]==\"R\"\n",
    "            new_dir=\"W\"\n",
    "            y_axis_move=0\n",
    "            x_axis_move= -int(i[1:])          \n",
    "    elif cur_dir==\"E\":\n",
    "        if i[0]==\"L\":\n",
    "            new_dir=\"N\"\n",
    "            x_axis_move=0\n",
    "            y_axis_move= +int(i[1:])\n",
    "        else: #i[0]==\"R\"\n",
    "            new_dir=\"S\"\n",
    "            x_axis_move=0\n",
    "            y_axis_move= -int(i[1:])             \n",
    "    \n",
    "    cur_dir=new_dir #updates the current direction\n",
    "    x_axis += x_axis_move\n",
    "    y_axis += y_axis_move\n",
    "    \n",
    "    all_locations.append((x_axis, y_axis))\n",
    "    all_x_coords.append(x_axis)\n",
    "    all_y_coords.append(y_axis)\n",
    "    \n",
    "    print x_axis_move, y_axis_move, new_dir, x_axis, y_axis\n",
    "    "
   ]
  },
  {
   "cell_type": "code",
   "execution_count": 14,
   "metadata": {
    "collapsed": false
   },
   "outputs": [
    {
     "name": "stdout",
     "output_type": "stream",
     "text": [
      "{'final y axis': 78, 'final x axis': -131}\n"
     ]
    }
   ],
   "source": [
    "print {\"final x axis\": x_axis, \"final y axis\": y_axis}"
   ]
  },
  {
   "cell_type": "code",
   "execution_count": 15,
   "metadata": {
    "collapsed": false
   },
   "outputs": [
    {
     "data": {
      "text/plain": [
       "209"
      ]
     },
     "execution_count": 15,
     "metadata": {},
     "output_type": "execute_result"
    }
   ],
   "source": [
    "#How many blocks away is Easter Bunny HQ?\n",
    "abs(x_axis)+abs(y_axis)"
   ]
  },
  {
   "cell_type": "markdown",
   "metadata": {
    "collapsed": true
   },
   "source": [
    "#### Part Two \n",
    "\n",
    "Then, you notice the instructions continue on the back of the Recruiting Document. Easter Bunny HQ is actually at the first location you visit twice.\n",
    "\n",
    "For example, if your instructions are R8, R4, R4, R8, the first location you visit twice is 4 blocks away, due East.\n",
    "\n",
    "How many blocks away is the first location you visit twice?\n",
    "\n",
    "Although it hasn't changed, you can still get your puzzle input."
   ]
  },
  {
   "cell_type": "code",
   "execution_count": 8,
   "metadata": {
    "collapsed": false
   },
   "outputs": [],
   "source": [
    "import matplotlib.pyplot as plt"
   ]
  },
  {
   "cell_type": "code",
   "execution_count": 36,
   "metadata": {
    "collapsed": false,
    "scrolled": false
   },
   "outputs": [
    {
     "data": {
      "image/png": "[encoded data removed]",
      "text/plain": [
       "<matplotlib.figure.Figure at 0x7b08a10>"
      ]
     },
     "metadata": {},
     "output_type": "display_data"
    }
   ],
   "source": [
    "plt.plot(all_x_coords, all_y_coords)\n",
    "plt.axis([-20,5,-15,250])\n",
    "\n",
    "plt.show()"
   ]
  },
  {
   "cell_type": "code",
   "execution_count": null,
   "metadata": {
    "collapsed": true
   },
   "outputs": [],
   "source": [
    "# create all intermediate points in coordinates of places visited"
   ]
  },
  {
   "cell_type": "code",
   "execution_count": 74,
   "metadata": {
    "collapsed": false
   },
   "outputs": [
    {
     "ename": "IndexError",
     "evalue": "list index out of range",
     "output_type": "error",
     "traceback": [
      "\u001b[0;31m---------------------------------------------------------------------------\u001b[0m",
      "\u001b[0;31mIndexError\u001b[0m                                Traceback (most recent call last)",
      "\u001b[0;32m<ipython-input-74-ba76301d05ef>\u001b[0m in \u001b[0;36m<module>\u001b[0;34m()\u001b[0m\n\u001b[1;32m      5\u001b[0m     \u001b[0mp2_n\u001b[0m \u001b[1;33m=\u001b[0m \u001b[0mi\u001b[0m\u001b[1;33m+\u001b[0m\u001b[1;36m1\u001b[0m\u001b[1;33m\u001b[0m\u001b[0m\n\u001b[1;32m      6\u001b[0m     \u001b[0mp1\u001b[0m \u001b[1;33m=\u001b[0m \u001b[0mall_locations\u001b[0m\u001b[1;33m[\u001b[0m\u001b[0mi\u001b[0m\u001b[1;33m]\u001b[0m\u001b[1;33m\u001b[0m\u001b[0m\n\u001b[0;32m----> 7\u001b[0;31m     \u001b[0mp2\u001b[0m \u001b[1;33m=\u001b[0m \u001b[0mall_locations\u001b[0m\u001b[1;33m[\u001b[0m\u001b[0mp2_n\u001b[0m\u001b[1;33m]\u001b[0m\u001b[1;33m\u001b[0m\u001b[0m\n\u001b[0m\u001b[1;32m      8\u001b[0m \u001b[1;33m\u001b[0m\u001b[0m\n\u001b[1;32m      9\u001b[0m     \u001b[0mpaired_places\u001b[0m\u001b[1;33m.\u001b[0m\u001b[0mappend\u001b[0m\u001b[1;33m(\u001b[0m\u001b[1;33m(\u001b[0m\u001b[0mp1\u001b[0m\u001b[1;33m,\u001b[0m \u001b[0mp2\u001b[0m\u001b[1;33m)\u001b[0m\u001b[1;33m)\u001b[0m \u001b[1;31m# += works like append\u001b[0m\u001b[1;33m\u001b[0m\u001b[0m\n",
      "\u001b[0;31mIndexError\u001b[0m: list index out of range"
     ]
    }
   ],
   "source": [
    "# generate the pairs of coords start-end\n",
    "paired_places = []\n",
    "\n",
    "for i in range(0, len(all_locations)):\n",
    "    p2_n = i+1\n",
    "    p1 = all_locations[i]\n",
    "    p2 = all_locations[p2_n]\n",
    "    \n",
    "    paired_places.append((p1, p2)) # += works like append"
   ]
  },
  {
   "cell_type": "code",
   "execution_count": 165,
   "metadata": {
    "collapsed": false
   },
   "outputs": [],
   "source": [
    "def points_between(p1, p2):\n",
    "    \n",
    "    if p1[0] <= p2[0] and p1[1] <= p2[1]:\n",
    "        xs = range(p1[0], p2[0]) or [p1[0]]\n",
    "        ys = range(p1[1], p2[1]) or [p1[1]]\n",
    "        \n",
    "    elif p1[0] > p2[0] and p1[1] > p2[1]:\n",
    "        xs = range(p1[0] -1, p2[0], -1) or [p1[0]]\n",
    "        ys = range(p1[1] -1, p2[1], -1) or [p1[1]] \n",
    "\n",
    "    elif p1[0] <= p2[0] and p1[1] > p2[1]:\n",
    "        xs = range(p1[0], p2[0]) or [p1[0]]\n",
    "        ys = range(p1[1] -1, p2[1], -1) or [p1[1]] \n",
    "\n",
    "    elif p1[0] > p2[0] and p1[1] <= p2[1]:\n",
    "        xs = range(p1[0] -1, p2[0], -1) or [p1[0]]\n",
    "        ys = range(p1[1], p2[1]) or [p1[1]] \n",
    "        \n",
    "    return [(x,y) for x in xs for y in ys]"
   ]
  },
  {
   "cell_type": "code",
   "execution_count": null,
   "metadata": {
    "collapsed": true
   },
   "outputs": [],
   "source": [
    "all_points = [[(0,0)]]\n",
    "for i in range(0, len(paired_places)):\n",
    "    all_points.append(points_between(paired_places[i][0], paired_places[i][1]))\n",
    "    "
   ]
  },
  {
   "cell_type": "code",
   "execution_count": 170,
   "metadata": {
    "collapsed": false
   },
   "outputs": [],
   "source": [
    "# flatten list\n",
    "all_points_flat = [item for sublist in all_points for item in sublist]"
   ]
  },
  {
   "cell_type": "code",
   "execution_count": 173,
   "metadata": {
    "collapsed": false
   },
   "outputs": [],
   "source": [
    "duplicates = [x for x in all_points_flat if all_points_flat.count(x) > 1]"
   ]
  },
  {
   "cell_type": "code",
   "execution_count": 174,
   "metadata": {
    "collapsed": false
   },
   "outputs": [
    {
     "data": {
      "text/plain": [
       "[(-6, 130),\n",
       " (-6, 130),\n",
       " (-126, 130),\n",
       " (-127, 130),\n",
       " (-128, 130),\n",
       " (-131, 130),\n",
       " (-131, 131),\n",
       " (-128, 130),\n",
       " (-126, 130),\n",
       " (-127, 130),\n",
       " (-128, 130),\n",
       " (-131, 131),\n",
       " (-131, 130),\n",
       " (-138, 111),\n",
       " (-138, 111),\n",
       " (-145, 115),\n",
       " (-145, 115),\n",
       " (-141, 86),\n",
       " (-140, 84),\n",
       " (-139, 85),\n",
       " (-141, 86),\n",
       " (-151, 83),\n",
       " (-152, 83),\n",
       " (-152, 83),\n",
       " (-151, 83),\n",
       " (-140, 84),\n",
       " (-139, 85),\n",
       " (-130, 78),\n",
       " (-130, 77),\n",
       " (-130, 76),\n",
       " (-130, 76),\n",
       " (-130, 77),\n",
       " (-130, 78)]"
      ]
     },
     "execution_count": 174,
     "metadata": {},
     "output_type": "execute_result"
    }
   ],
   "source": [
    "duplicates"
   ]
  },
  {
   "cell_type": "code",
   "execution_count": 175,
   "metadata": {
    "collapsed": false
   },
   "outputs": [
    {
     "data": {
      "text/plain": [
       "136"
      ]
     },
     "execution_count": 175,
     "metadata": {},
     "output_type": "execute_result"
    }
   ],
   "source": [
    "abs(duplicates[0][0])+abs(duplicates[0][1])"
   ]
  }
 ],
 "metadata": {
  "kernelspec": {
   "display_name": "Python 2",
   "language": "python",
   "name": "python2"
  },
  "language_info": {
   "codemirror_mode": {
    "name": "ipython",
    "version": 2
   },
   "file_extension": ".py",
   "mimetype": "text/x-python",
   "name": "python",
   "nbconvert_exporter": "python",
   "pygments_lexer": "ipython2",
   "version": "2.7.12"
  }
 },
 "nbformat": 4,
 "nbformat_minor": 1
}
